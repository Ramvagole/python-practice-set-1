{
 "cells": [
  {
   "cell_type": "code",
   "execution_count": 3,
   "id": "e1d25f94-efe9-4fa5-acdf-9aeda13fada1",
   "metadata": {},
   "outputs": [
    {
     "name": "stdin",
     "output_type": "stream",
     "text": [
      "Enter the first number: 5\n",
      "Enter the second number:  6\n"
     ]
    },
    {
     "name": "stdout",
     "output_type": "stream",
     "text": [
      "11\n"
     ]
    }
   ],
   "source": [
    "#Q1):-\n",
    "def add_numbers(a,b):\n",
    "    return a+b\n",
    "\n",
    "a=eval(input(\"Enter the first number:\").strip())\n",
    "b=eval(input(\"Enter the second number:\").strip())\n",
    "print(add_numbers(a,b))"
   ]
  },
  {
   "cell_type": "code",
   "execution_count": 4,
   "id": "c2b104b7-1a03-4949-bd69-e11bc2f8735f",
   "metadata": {},
   "outputs": [
    {
     "name": "stdin",
     "output_type": "stream",
     "text": [
      "Enter the number: 625\n"
     ]
    },
    {
     "name": "stdout",
     "output_type": "stream",
     "text": [
      "25.0\n"
     ]
    }
   ],
   "source": [
    "#Q2):-\n",
    "import math\n",
    "a=eval(input(\"Enter the number:\").strip())\n",
    "print(math.sqrt(a))"
   ]
  },
  {
   "cell_type": "code",
   "execution_count": 5,
   "id": "e3928e3a-edfc-4f19-b96b-b97d96695730",
   "metadata": {},
   "outputs": [
    {
     "name": "stdout",
     "output_type": "stream",
     "text": [
      "2\n",
      "3\n",
      "5\n",
      "7\n",
      "11\n",
      "13\n",
      "17\n",
      "19\n",
      "23\n",
      "29\n",
      "31\n",
      "37\n",
      "41\n",
      "43\n",
      "47\n"
     ]
    }
   ],
   "source": [
    "#Q3):-\n",
    "def is_prime(n):\n",
    "    if n <= 1:\n",
    "        return False\n",
    "    for i in range(2, int(n**0.5) + 1):\n",
    "        if n % i == 0:\n",
    "            return False\n",
    "    return True\n",
    "\n",
    "for num in range(0, 51):\n",
    "    if is_prime(num):\n",
    "        print(num)\n"
   ]
  },
  {
   "cell_type": "code",
   "execution_count": 9,
   "id": "c6fd9686-e71c-4a17-b2f6-d96beae3f53e",
   "metadata": {},
   "outputs": [
    {
     "name": "stdout",
     "output_type": "stream",
     "text": [
      "a= 9\n",
      "b= 5\n",
      "c= 8\n"
     ]
    }
   ],
   "source": [
    "#Q4):-\n",
    "a,b,c=5,8,9\n",
    "a,b,c=c,a,b\n",
    "print(\"a=\",a)\n",
    "print(\"b=\",b)\n",
    "print(\"c=\",c)"
   ]
  },
  {
   "cell_type": "code",
   "execution_count": 10,
   "id": "2cbc76c9-3b79-4dea-a429-33f6917ebe8c",
   "metadata": {},
   "outputs": [
    {
     "name": "stdin",
     "output_type": "stream",
     "text": [
      "Enter the number: -10\n"
     ]
    },
    {
     "name": "stdout",
     "output_type": "stream",
     "text": [
      "Less than zero\n"
     ]
    }
   ],
   "source": [
    "#Q5):-\n",
    "a=eval(input(\"Enter the number:\").strip())\n",
    "if(a<0):\n",
    "    print(\"Less than zero\")\n",
    "elif(a>0):\n",
    "    print(\"Greater then zero\")\n",
    "elif(a==0):\n",
    "    print(\"Equal to zero\")"
   ]
  },
  {
   "cell_type": "code",
   "execution_count": 12,
   "id": "796064c9-08e3-4af3-9466-5b151792a0c1",
   "metadata": {},
   "outputs": [
    {
     "name": "stdin",
     "output_type": "stream",
     "text": [
      "Enter the number: 87\n"
     ]
    },
    {
     "name": "stdout",
     "output_type": "stream",
     "text": [
      "It is a odd number\n"
     ]
    }
   ],
   "source": [
    "#Q6):-\n",
    "a=eval(input(\"Enter the number:\").strip())\n",
    "if(a%2==0):\n",
    "    print(\"It is a even number\")\n",
    "else:\n",
    "    print(\"It is a odd number\")\n",
    "    "
   ]
  },
  {
   "cell_type": "code",
   "execution_count": 14,
   "id": "b2f0ead5-3c2e-4f6e-acbc-32778c171110",
   "metadata": {},
   "outputs": [
    {
     "name": "stdin",
     "output_type": "stream",
     "text": [
      "Enter the number 76543\n"
     ]
    },
    {
     "name": "stdout",
     "output_type": "stream",
     "text": [
      "25\n"
     ]
    }
   ],
   "source": [
    "#Q7):-\n",
    "a=input(\"Enter the number\")\n",
    "print(sum(int(i) for i in a))"
   ]
  },
  {
   "cell_type": "code",
   "execution_count": 17,
   "id": "6c2247e5-843d-4b5f-badf-e8ad4bc1e686",
   "metadata": {},
   "outputs": [
    {
     "name": "stdin",
     "output_type": "stream",
     "text": [
      "Enter the number 5436\n"
     ]
    },
    {
     "name": "stdout",
     "output_type": "stream",
     "text": [
      "6345\n"
     ]
    }
   ],
   "source": [
    "#Q8):-\n",
    "a=input(\"Enter the number\")\n",
    "print(\"\".join(reversed(a)))"
   ]
  },
  {
   "cell_type": "code",
   "execution_count": 19,
   "id": "9e8f49cc-3246-4812-96bc-13819dfe8d12",
   "metadata": {},
   "outputs": [
    {
     "name": "stdin",
     "output_type": "stream",
     "text": [
      "Enter the number 371\n"
     ]
    },
    {
     "name": "stdout",
     "output_type": "stream",
     "text": [
      "371 is Armstrong\n"
     ]
    }
   ],
   "source": [
    "#Q9):-\n",
    "number=input(\"Enter the number\")\n",
    "num_digit=len(number)\n",
    "arm_strong=sum(int(i)**num_digit for i in number)\n",
    "\n",
    "if int(number) == arm_strong:\n",
    "    print(number,\"is Armstrong\")\n",
    "else:\n",
    "    print(nyumber,\"is not Armstrong\")"
   ]
  },
  {
   "cell_type": "code",
   "execution_count": 20,
   "id": "baa03187-7558-4b13-8b45-cfa064caaa83",
   "metadata": {},
   "outputs": [
    {
     "name": "stdin",
     "output_type": "stream",
     "text": [
      "enter the year 1996\n"
     ]
    },
    {
     "name": "stdout",
     "output_type": "stream",
     "text": [
      "1996 is a leap year.\n"
     ]
    }
   ],
   "source": [
    "#Q10):-\n",
    "year = eval(input(\"enter the year\"))\n",
    "\n",
    "if year % 4 == 0 and (year % 100 != 0 or year % 400 == 0):\n",
    "    print(f\"{year} is a leap year.\")\n",
    "else:\n",
    "    print(f\"{year} is not a leap year.\")\n"
   ]
  },
  {
   "cell_type": "code",
   "execution_count": null,
   "id": "eaba6aa0-d24d-418c-abc6-dd4cab009481",
   "metadata": {},
   "outputs": [],
   "source": []
  }
 ],
 "metadata": {
  "kernelspec": {
   "display_name": "Python 3 (ipykernel)",
   "language": "python",
   "name": "python3"
  },
  "language_info": {
   "codemirror_mode": {
    "name": "ipython",
    "version": 3
   },
   "file_extension": ".py",
   "mimetype": "text/x-python",
   "name": "python",
   "nbconvert_exporter": "python",
   "pygments_lexer": "ipython3",
   "version": "3.10.8"
  }
 },
 "nbformat": 4,
 "nbformat_minor": 5
}
